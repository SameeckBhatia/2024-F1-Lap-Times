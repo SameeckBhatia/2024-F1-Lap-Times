{
 "cells": [
  {
   "cell_type": "markdown",
   "source": [
    "### Importing Libraries"
   ],
   "metadata": {
    "collapsed": false
   },
   "id": "7868fcafddc00554"
  },
  {
   "cell_type": "code",
   "outputs": [],
   "source": [
    "# Uncomment the below line to install libraries\n",
    "# !pip -q install pandas requests bs4 threading"
   ],
   "metadata": {
    "collapsed": false,
    "ExecuteTime": {
     "end_time": "2024-02-21T02:31:36.776793Z",
     "start_time": "2024-02-21T02:31:36.757938Z"
    }
   },
   "id": "6b5f4c613d1d5ec4",
   "execution_count": 1
  },
  {
   "cell_type": "code",
   "outputs": [],
   "source": [
    "import os\n",
    "import threading\n",
    "\n",
    "import pandas as pd\n",
    "import requests\n",
    "from bs4 import BeautifulSoup"
   ],
   "metadata": {
    "collapsed": false,
    "ExecuteTime": {
     "end_time": "2024-02-21T02:31:38.718076Z",
     "start_time": "2024-02-21T02:31:36.784975Z"
    }
   },
   "id": "fa487c3ef660733c",
   "execution_count": 2
  },
  {
   "cell_type": "markdown",
   "source": [
    "### Grand Prix Data Frame"
   ],
   "metadata": {
    "collapsed": false
   },
   "id": "357b5c654c9786a6"
  },
  {
   "cell_type": "code",
   "outputs": [
    {
     "data": {
      "text/plain": "             grand_prix  laps\nround_num                    \n1               Bahrain    57\n2          Saudi Arabia    50\n3             Australia    58\n4                 Japan    53\n5                 China    56",
      "text/html": "<div>\n<style scoped>\n    .dataframe tbody tr th:only-of-type {\n        vertical-align: middle;\n    }\n\n    .dataframe tbody tr th {\n        vertical-align: top;\n    }\n\n    .dataframe thead th {\n        text-align: right;\n    }\n</style>\n<table border=\"1\" class=\"dataframe\">\n  <thead>\n    <tr style=\"text-align: right;\">\n      <th></th>\n      <th>grand_prix</th>\n      <th>laps</th>\n    </tr>\n    <tr>\n      <th>round_num</th>\n      <th></th>\n      <th></th>\n    </tr>\n  </thead>\n  <tbody>\n    <tr>\n      <th>1</th>\n      <td>Bahrain</td>\n      <td>57</td>\n    </tr>\n    <tr>\n      <th>2</th>\n      <td>Saudi Arabia</td>\n      <td>50</td>\n    </tr>\n    <tr>\n      <th>3</th>\n      <td>Australia</td>\n      <td>58</td>\n    </tr>\n    <tr>\n      <th>4</th>\n      <td>Japan</td>\n      <td>53</td>\n    </tr>\n    <tr>\n      <th>5</th>\n      <td>China</td>\n      <td>56</td>\n    </tr>\n  </tbody>\n</table>\n</div>"
     },
     "execution_count": 3,
     "metadata": {},
     "output_type": "execute_result"
    }
   ],
   "source": [
    "# Creating a data frame for the rounds, Grands Prix, and number of laps\n",
    "grand_prix_df = pd.DataFrame({\n",
    "    \"round_num\": [1, 2, 3, 4, 5],\n",
    "    \"grand_prix\": [\"Bahrain\", \"Saudi Arabia\", \"Australia\", \"Japan\", \"China\"],\n",
    "    \"laps\": [57, 50, 58, 53, 56]\n",
    "})\n",
    "\n",
    "# Setting the round number as the data frame index\n",
    "grand_prix_df.set_index(\"round_num\", inplace=True)\n",
    "grand_prix_df.head()"
   ],
   "metadata": {
    "collapsed": false,
    "ExecuteTime": {
     "end_time": "2024-02-21T02:31:38.764943Z",
     "start_time": "2024-02-21T02:31:38.722308Z"
    }
   },
   "id": "42f4aad50ecc150d",
   "execution_count": 3
  },
  {
   "cell_type": "code",
   "outputs": [
    {
     "data": {
      "text/plain": "(False, [1, 2, 3, 4, 5])"
     },
     "execution_count": 4,
     "metadata": {},
     "output_type": "execute_result"
    }
   ],
   "source": [
    "file_check = False\n",
    "file_rounds = set()\n",
    "\n",
    "if os.path.exists(\"lap_times.csv\"):\n",
    "    file_rounds = set(pd.read_csv(\"lap_times.csv\")[\"round\"])\n",
    "    file_check = True\n",
    "\n",
    "# Returning the rounds in round_list that are not on file\n",
    "set_diff = list(set(grand_prix_df.index.values).difference(file_rounds))\n",
    "file_check, set_diff[:5]"
   ],
   "metadata": {
    "collapsed": false,
    "ExecuteTime": {
     "end_time": "2024-02-21T02:31:38.795170Z",
     "start_time": "2024-02-21T02:31:38.772768Z"
    }
   },
   "id": "3c85dd9d2778f71e",
   "execution_count": 4
  },
  {
   "cell_type": "markdown",
   "source": [
    "### Constructor Data Frame"
   ],
   "metadata": {
    "collapsed": false
   },
   "id": "4aa1835791577d8a"
  },
  {
   "cell_type": "code",
   "outputs": [
    {
     "data": {
      "text/plain": "    constructor driver\n0        Alpine    GAS\n1        Alpine    OCO\n2  Aston Martin    ALO\n3  Aston Martin    STR\n4       Ferrari    LEC",
      "text/html": "<div>\n<style scoped>\n    .dataframe tbody tr th:only-of-type {\n        vertical-align: middle;\n    }\n\n    .dataframe tbody tr th {\n        vertical-align: top;\n    }\n\n    .dataframe thead th {\n        text-align: right;\n    }\n</style>\n<table border=\"1\" class=\"dataframe\">\n  <thead>\n    <tr style=\"text-align: right;\">\n      <th></th>\n      <th>constructor</th>\n      <th>driver</th>\n    </tr>\n  </thead>\n  <tbody>\n    <tr>\n      <th>0</th>\n      <td>Alpine</td>\n      <td>GAS</td>\n    </tr>\n    <tr>\n      <th>1</th>\n      <td>Alpine</td>\n      <td>OCO</td>\n    </tr>\n    <tr>\n      <th>2</th>\n      <td>Aston Martin</td>\n      <td>ALO</td>\n    </tr>\n    <tr>\n      <th>3</th>\n      <td>Aston Martin</td>\n      <td>STR</td>\n    </tr>\n    <tr>\n      <th>4</th>\n      <td>Ferrari</td>\n      <td>LEC</td>\n    </tr>\n  </tbody>\n</table>\n</div>"
     },
     "execution_count": 5,
     "metadata": {},
     "output_type": "execute_result"
    }
   ],
   "source": [
    "# Creating a dictionary with each constructor's drivers\n",
    "constructor_driver_dict = {\n",
    "    \"Alpine\": [\"GAS\", \"OCO\"], \"Aston Martin\": [\"ALO\", \"STR\"], \"Ferrari\": [\"LEC\", \"SAI\"],\n",
    "    \"Haas\": [\"HUL\", \"MAG\"], \"Kick Sauber\": [\"BOT\", \"ZHO\"], \"McLaren\": [\"NOR\", \"PIA\"],\n",
    "    \"Mercedes\": [\"HAM\", \"RUS\"], \"Racing Bulls\": [\"RIC\", \"TSU\"], \"Red Bull\": [\"PER\", \"VER\"],\n",
    "    \"Williams\": [\"ALB\", \"SAR\"]\n",
    "}\n",
    "\n",
    "pair = []\n",
    "\n",
    "for constructor, drivers in constructor_driver_dict.items():\n",
    "    pair.append([constructor, drivers[0]])\n",
    "    pair.append([constructor, drivers[1]])\n",
    "\n",
    "# Converting the dictionary to a data frame\n",
    "constructor_df = pd.DataFrame(pair, columns=[\"constructor\", \"driver\"])\n",
    "constructor_df.head()"
   ],
   "metadata": {
    "collapsed": false,
    "ExecuteTime": {
     "end_time": "2024-02-21T02:31:38.841732Z",
     "start_time": "2024-02-21T02:31:38.801700Z"
    }
   },
   "id": "2ec0a9170097e9c2",
   "execution_count": 5
  },
  {
   "cell_type": "markdown",
   "source": [
    "### Lap Time Data Frame"
   ],
   "metadata": {
    "collapsed": false
   },
   "id": "cbcc977abdeb2987"
  },
  {
   "cell_type": "code",
   "outputs": [],
   "source": [
    "lap_time_df = pd.DataFrame(columns=[\"round\", \"grand_prix\", \"driver\",\n",
    "                                    \"lap\", \"position\", \"time\"])\n",
    "\n",
    "df_list = []"
   ],
   "metadata": {
    "collapsed": false,
    "ExecuteTime": {
     "end_time": "2024-02-21T02:31:38.872814Z",
     "start_time": "2024-02-21T02:31:38.846051Z"
    }
   },
   "id": "443d97560de7489e",
   "execution_count": 6
  },
  {
   "cell_type": "code",
   "outputs": [],
   "source": [
    "def lap_time_loop(round_num, grand_prix, timing_list) -> None:\n",
    "    data = []\n",
    "\n",
    "    for timing in timing_list:\n",
    "        minutes, seconds = map(float, timing[\"time\"].split(\":\"))\n",
    "        lap_time_sec = minutes * 60 + seconds\n",
    "\n",
    "        driver = timing[\"driverId\"][:3].upper()\n",
    "        if driver == \"MAX\":\n",
    "            driver = \"VER\"\n",
    "        elif driver == \"KEV\":\n",
    "            driver = \"MAG\"\n",
    "\n",
    "        lap = int(timing[\"lap\"])\n",
    "        position = int(timing[\"position\"])\n",
    "\n",
    "        data.append([round_num, grand_prix, driver, lap, position, lap_time_sec])\n",
    "\n",
    "    columns = [\"round\", \"grand_prix\", \"driver\", \"lap\", \"position\", \"time\"]\n",
    "    temp_df = pd.DataFrame(data, columns=columns)\n",
    "    df_list.append(temp_df)"
   ],
   "metadata": {
    "collapsed": false,
    "ExecuteTime": {
     "end_time": "2024-02-21T02:31:38.903545Z",
     "start_time": "2024-02-21T02:31:38.876143Z"
    }
   },
   "id": "c3c76dc89bd495fe",
   "execution_count": 7
  },
  {
   "cell_type": "code",
   "outputs": [],
   "source": [
    "def grand_prix_loop(round_num, grand_prix, lap) -> None:\n",
    "    url = f\"https://ergast.com/api/f1/2024/{round_num}/laps/{lap}.xml\"\n",
    "    response = requests.get(url).content\n",
    "    soup = BeautifulSoup(response, features=\"xml\")\n",
    "    timing_list = soup.findAll(\"Timing\")\n",
    "\n",
    "    lap_time_loop(round_num, grand_prix, timing_list)"
   ],
   "metadata": {
    "collapsed": false,
    "ExecuteTime": {
     "end_time": "2024-02-21T02:31:38.918721Z",
     "start_time": "2024-02-21T02:31:38.907837Z"
    }
   },
   "id": "d2eb2064d408ab59",
   "execution_count": 8
  },
  {
   "cell_type": "markdown",
   "source": [
    "### Multithreading"
   ],
   "metadata": {
    "collapsed": false
   },
   "id": "3ff3b58d05a3a878"
  },
  {
   "cell_type": "code",
   "outputs": [],
   "source": [
    "def multithread():\n",
    "    functions = [\n",
    "        (i, grand_prix_df.loc[i][\"grand_prix\"], j + 1)\n",
    "        for i in set_diff\n",
    "        for j in range(grand_prix_df.loc[i][\"laps\"])\n",
    "    ]\n",
    "\n",
    "    threads = []\n",
    "    for args in functions:\n",
    "        thread = threading.Thread(target=grand_prix_loop, args=args)\n",
    "        threads.append(thread)\n",
    "        thread.start()\n",
    "\n",
    "    for thread in threads:\n",
    "        thread.join()"
   ],
   "metadata": {
    "collapsed": false,
    "ExecuteTime": {
     "end_time": "2024-02-21T02:31:44.507632Z",
     "start_time": "2024-02-21T02:31:44.478315Z"
    }
   },
   "id": "fa7c5960525a8926",
   "execution_count": 9
  },
  {
   "cell_type": "markdown",
   "source": [
    "### Transform and Export"
   ],
   "metadata": {
    "collapsed": false
   },
   "id": "f60952d65522fe28"
  },
  {
   "cell_type": "code",
   "outputs": [],
   "source": [
    "if not set_diff == []:\n",
    "    # Merging data frames\n",
    "    lap_time_df = pd.concat(df_list, ignore_index=True)\n",
    "    lap_time_df = lap_time_df.merge(constructor_df, how=\"left\")\n",
    "\n",
    "    # Transforming columns\n",
    "    cols = lap_time_df.columns.tolist()\n",
    "    lap_time_df = lap_time_df[cols[:2] + cols[-1:] + cols[2:-1]]\n",
    "    lap_time_df[\"time\"] = lap_time_df[\"time\"].round(3)\n",
    "\n",
    "    # Export data frame based on CSV file existence\n",
    "    if file_check:\n",
    "        lap_time_df.to_csv(\"lap_time.csv\", mode=\"a\", index=False, header=False)\n",
    "    else:\n",
    "        lap_time_df.to_csv(\"lap_time.csv\", index=False)"
   ],
   "metadata": {
    "collapsed": false
   },
   "id": "efa81b0dd2677c1d",
   "execution_count": null
  }
 ],
 "metadata": {
  "kernelspec": {
   "display_name": "Python 3",
   "language": "python",
   "name": "python3"
  },
  "language_info": {
   "codemirror_mode": {
    "name": "ipython",
    "version": 2
   },
   "file_extension": ".py",
   "mimetype": "text/x-python",
   "name": "python",
   "nbconvert_exporter": "python",
   "pygments_lexer": "ipython2",
   "version": "2.7.6"
  }
 },
 "nbformat": 4,
 "nbformat_minor": 5
}
