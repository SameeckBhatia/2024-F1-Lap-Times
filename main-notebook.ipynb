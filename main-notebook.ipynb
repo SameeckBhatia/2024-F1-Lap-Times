{
 "cells": [
  {
   "cell_type": "markdown",
   "source": [
    "### Importing Libraries"
   ],
   "metadata": {
    "collapsed": false
   },
   "id": "7868fcafddc00554"
  },
  {
   "cell_type": "code",
   "outputs": [],
   "source": [
    "# Uncomment to install\n",
    "# !pip -q install pandas numpy requests bs4 threading"
   ],
   "metadata": {
    "collapsed": false,
    "ExecuteTime": {
     "end_time": "2024-02-11T18:47:05.946619400Z",
     "start_time": "2024-02-11T18:47:05.929921600Z"
    }
   },
   "id": "6b5f4c613d1d5ec4",
   "execution_count": 1
  },
  {
   "cell_type": "code",
   "outputs": [],
   "source": [
    "import pandas as pd\n",
    "import threading, multiprocessing\n",
    "import requests\n",
    "from bs4 import BeautifulSoup"
   ],
   "metadata": {
    "collapsed": false,
    "ExecuteTime": {
     "end_time": "2024-02-11T18:47:06.639989100Z",
     "start_time": "2024-02-11T18:47:05.954098100Z"
    }
   },
   "id": "fa487c3ef660733c",
   "execution_count": 2
  },
  {
   "cell_type": "markdown",
   "source": [
    "### Grand Prix Data Frame"
   ],
   "metadata": {
    "collapsed": false
   },
   "id": "357b5c654c9786a6"
  },
  {
   "cell_type": "code",
   "outputs": [
    {
     "data": {
      "text/plain": "             grand_prix  laps\nround_num                    \n1               Bahrain    57\n2          Saudi Arabia    50\n3             Australia    58\n4                 Japan    53",
      "text/html": "<div>\n<style scoped>\n    .dataframe tbody tr th:only-of-type {\n        vertical-align: middle;\n    }\n\n    .dataframe tbody tr th {\n        vertical-align: top;\n    }\n\n    .dataframe thead th {\n        text-align: right;\n    }\n</style>\n<table border=\"1\" class=\"dataframe\">\n  <thead>\n    <tr style=\"text-align: right;\">\n      <th></th>\n      <th>grand_prix</th>\n      <th>laps</th>\n    </tr>\n    <tr>\n      <th>round_num</th>\n      <th></th>\n      <th></th>\n    </tr>\n  </thead>\n  <tbody>\n    <tr>\n      <th>1</th>\n      <td>Bahrain</td>\n      <td>57</td>\n    </tr>\n    <tr>\n      <th>2</th>\n      <td>Saudi Arabia</td>\n      <td>50</td>\n    </tr>\n    <tr>\n      <th>3</th>\n      <td>Australia</td>\n      <td>58</td>\n    </tr>\n    <tr>\n      <th>4</th>\n      <td>Japan</td>\n      <td>53</td>\n    </tr>\n  </tbody>\n</table>\n</div>"
     },
     "execution_count": 3,
     "metadata": {},
     "output_type": "execute_result"
    }
   ],
   "source": [
    "grand_prix_df = pd.DataFrame({\n",
    "    \"round_num\": [1, 2, 3, 4],\n",
    "    \"grand_prix\": [\"Bahrain\", \"Saudi Arabia\", \"Australia\", \"Japan\"],\n",
    "    \"laps\": [57, 50, 58, 53]\n",
    "})\n",
    "\n",
    "grand_prix_df.set_index(\"round_num\", inplace=True)\n",
    "grand_prix_df.head()"
   ],
   "metadata": {
    "collapsed": false,
    "ExecuteTime": {
     "end_time": "2024-02-11T18:47:06.676873Z",
     "start_time": "2024-02-11T18:47:06.641987300Z"
    }
   },
   "id": "42f4aad50ecc150d",
   "execution_count": 3
  }
 ],
 "metadata": {
  "kernelspec": {
   "display_name": "Python 3",
   "language": "python",
   "name": "python3"
  },
  "language_info": {
   "codemirror_mode": {
    "name": "ipython",
    "version": 2
   },
   "file_extension": ".py",
   "mimetype": "text/x-python",
   "name": "python",
   "nbconvert_exporter": "python",
   "pygments_lexer": "ipython2",
   "version": "2.7.6"
  }
 },
 "nbformat": 4,
 "nbformat_minor": 5
}
