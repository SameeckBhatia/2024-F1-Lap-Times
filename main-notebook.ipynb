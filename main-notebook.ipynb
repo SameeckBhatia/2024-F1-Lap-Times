{
 "cells": [
  {
   "cell_type": "markdown",
   "source": [
    "### Importing Libraries"
   ],
   "metadata": {
    "collapsed": false
   },
   "id": "7868fcafddc00554"
  },
  {
   "cell_type": "code",
   "outputs": [],
   "source": [
    "# Uncomment the below line to install libraries\n",
    "# !pip -q install pandas requests bs4 threading multiprocessing"
   ],
   "metadata": {
    "collapsed": false,
    "ExecuteTime": {
     "end_time": "2024-02-17T04:34:46.108506Z",
     "start_time": "2024-02-17T04:34:46.092506Z"
    }
   },
   "id": "6b5f4c613d1d5ec4",
   "execution_count": 1
  },
  {
   "cell_type": "code",
   "outputs": [],
   "source": [
    "import os\n",
    "import pandas as pd\n",
    "import threading, multiprocessing\n",
    "import requests\n",
    "from bs4 import BeautifulSoup"
   ],
   "metadata": {
    "collapsed": false,
    "ExecuteTime": {
     "end_time": "2024-02-17T04:34:47.708252Z",
     "start_time": "2024-02-17T04:34:46.113507Z"
    }
   },
   "id": "fa487c3ef660733c",
   "execution_count": 2
  },
  {
   "cell_type": "markdown",
   "source": [
    "### Grand Prix Data Frame"
   ],
   "metadata": {
    "collapsed": false
   },
   "id": "357b5c654c9786a6"
  },
  {
   "cell_type": "code",
   "outputs": [
    {
     "data": {
      "text/plain": "             grand_prix  laps\nround_num                    \n1               Bahrain    57\n2          Saudi Arabia    50\n3             Australia    58\n4                 Japan    53\n5                 China    56",
      "text/html": "<div>\n<style scoped>\n    .dataframe tbody tr th:only-of-type {\n        vertical-align: middle;\n    }\n\n    .dataframe tbody tr th {\n        vertical-align: top;\n    }\n\n    .dataframe thead th {\n        text-align: right;\n    }\n</style>\n<table border=\"1\" class=\"dataframe\">\n  <thead>\n    <tr style=\"text-align: right;\">\n      <th></th>\n      <th>grand_prix</th>\n      <th>laps</th>\n    </tr>\n    <tr>\n      <th>round_num</th>\n      <th></th>\n      <th></th>\n    </tr>\n  </thead>\n  <tbody>\n    <tr>\n      <th>1</th>\n      <td>Bahrain</td>\n      <td>57</td>\n    </tr>\n    <tr>\n      <th>2</th>\n      <td>Saudi Arabia</td>\n      <td>50</td>\n    </tr>\n    <tr>\n      <th>3</th>\n      <td>Australia</td>\n      <td>58</td>\n    </tr>\n    <tr>\n      <th>4</th>\n      <td>Japan</td>\n      <td>53</td>\n    </tr>\n    <tr>\n      <th>5</th>\n      <td>China</td>\n      <td>56</td>\n    </tr>\n  </tbody>\n</table>\n</div>"
     },
     "execution_count": 3,
     "metadata": {},
     "output_type": "execute_result"
    }
   ],
   "source": [
    "# Creating a data frame for the rounds, Grands Prix, and number of laps\n",
    "grand_prix_df = pd.DataFrame({\n",
    "    \"round_num\": [1, 2, 3, 4, 5],\n",
    "    \"grand_prix\": [\"Bahrain\", \"Saudi Arabia\", \"Australia\", \"Japan\", \"China\"],\n",
    "    \"laps\": [57, 50, 58, 53, 56]\n",
    "})\n",
    "\n",
    "# Setting the round number as the data frame index\n",
    "grand_prix_df.set_index(\"round_num\", inplace=True)\n",
    "grand_prix_df.head()"
   ],
   "metadata": {
    "collapsed": false,
    "ExecuteTime": {
     "end_time": "2024-02-17T04:34:47.754288Z",
     "start_time": "2024-02-17T04:34:47.711236Z"
    }
   },
   "id": "42f4aad50ecc150d",
   "execution_count": 3
  },
  {
   "cell_type": "code",
   "outputs": [
    {
     "data": {
      "text/plain": "(False, [1, 2, 3, 4, 5])"
     },
     "execution_count": 4,
     "metadata": {},
     "output_type": "execute_result"
    }
   ],
   "source": [
    "file_check = False\n",
    "file_rounds = set()\n",
    "\n",
    "if os.path.exists(\"lap_times.csv\"):\n",
    "    file_rounds = set(pd.read_csv(\"lap_times.csv\")[\"round\"])\n",
    "    file_check = True\n",
    "\n",
    "# Returning the rounds in round_list that are not on file\n",
    "set_diff = list(set(grand_prix_df.index.values).difference(file_rounds))\n",
    "file_check, set_diff[:5]"
   ],
   "metadata": {
    "collapsed": false,
    "ExecuteTime": {
     "end_time": "2024-02-17T04:34:47.786093Z",
     "start_time": "2024-02-17T04:34:47.760289Z"
    }
   },
   "id": "3c85dd9d2778f71e",
   "execution_count": 4
  },
  {
   "cell_type": "markdown",
   "source": [
    "### Constructor Data Frame"
   ],
   "metadata": {
    "collapsed": false
   },
   "id": "4aa1835791577d8a"
  },
  {
   "cell_type": "code",
   "outputs": [
    {
     "data": {
      "text/plain": "    constructor driver\n0        Alpine    GAS\n1        Alpine    OCO\n2  Aston Martin    ALO\n3  Aston Martin    STR\n4       Ferrari    LEC",
      "text/html": "<div>\n<style scoped>\n    .dataframe tbody tr th:only-of-type {\n        vertical-align: middle;\n    }\n\n    .dataframe tbody tr th {\n        vertical-align: top;\n    }\n\n    .dataframe thead th {\n        text-align: right;\n    }\n</style>\n<table border=\"1\" class=\"dataframe\">\n  <thead>\n    <tr style=\"text-align: right;\">\n      <th></th>\n      <th>constructor</th>\n      <th>driver</th>\n    </tr>\n  </thead>\n  <tbody>\n    <tr>\n      <th>0</th>\n      <td>Alpine</td>\n      <td>GAS</td>\n    </tr>\n    <tr>\n      <th>1</th>\n      <td>Alpine</td>\n      <td>OCO</td>\n    </tr>\n    <tr>\n      <th>2</th>\n      <td>Aston Martin</td>\n      <td>ALO</td>\n    </tr>\n    <tr>\n      <th>3</th>\n      <td>Aston Martin</td>\n      <td>STR</td>\n    </tr>\n    <tr>\n      <th>4</th>\n      <td>Ferrari</td>\n      <td>LEC</td>\n    </tr>\n  </tbody>\n</table>\n</div>"
     },
     "execution_count": 5,
     "metadata": {},
     "output_type": "execute_result"
    }
   ],
   "source": [
    "# Creating a dictionary with each constructor's drivers\n",
    "constructor_driver_dict = {\n",
    "    \"Alpine\": [\"GAS\", \"OCO\"], \"Aston Martin\": [\"ALO\", \"STR\"], \"Ferrari\": [\"LEC\", \"SAI\"],\n",
    "    \"Haas\": [\"HUL\", \"MAG\"], \"Kick Sauber\": [\"BOT\", \"ZHO\"], \"McLaren\": [\"NOR\", \"PIA\"],\n",
    "    \"Mercedes\": [\"HAM\", \"RUS\"], \"Racing Bulls\": [\"RIC\", \"TSU\"], \"Red Bull\": [\"PER\", \"VER\"],\n",
    "    \"Williams\": [\"ALB\", \"SAR\"]\n",
    "}\n",
    "\n",
    "pair = []\n",
    "\n",
    "for constructor, drivers in constructor_driver_dict.items():\n",
    "    pair.append([constructor, drivers[0]])\n",
    "    pair.append([constructor, drivers[1]])\n",
    "\n",
    "# Converting the dictionary to a data frame\n",
    "constructor_df = pd.DataFrame(pair, columns=[\"constructor\", \"driver\"])\n",
    "constructor_df.head()"
   ],
   "metadata": {
    "collapsed": false,
    "ExecuteTime": {
     "end_time": "2024-02-17T04:34:47.832581Z",
     "start_time": "2024-02-17T04:34:47.792767Z"
    }
   },
   "id": "2ec0a9170097e9c2",
   "execution_count": 5
  },
  {
   "cell_type": "markdown",
   "source": [
    "### Lap Time Data Frame"
   ],
   "metadata": {
    "collapsed": false
   },
   "id": "cbcc977abdeb2987"
  },
  {
   "cell_type": "code",
   "outputs": [],
   "source": [
    "lap_time_df = pd.DataFrame(columns=[\"round\", \"grand_prix\", \"driver\",\n",
    "                                    \"lap\", \"position\", \"time\"])"
   ],
   "metadata": {
    "collapsed": false,
    "ExecuteTime": {
     "end_time": "2024-02-17T04:34:47.863137Z",
     "start_time": "2024-02-17T04:34:47.836819Z"
    }
   },
   "id": "443d97560de7489e",
   "execution_count": 6
  },
  {
   "cell_type": "code",
   "outputs": [],
   "source": [
    "def grand_prix_loop(round_num, grand_prix, lap) -> None:\n",
    "    url = f\"https://ergast.com/api/f1/2023/{round_num}/laps/{lap}.xml\"\n",
    "    response = requests.get(url).content\n",
    "    soup = BeautifulSoup(response, features=\"xml\")\n",
    "    timing_list = soup.findAll(\"Timing\")"
   ],
   "metadata": {
    "collapsed": false,
    "ExecuteTime": {
     "end_time": "2024-02-17T04:34:47.878925Z",
     "start_time": "2024-02-17T04:34:47.866553Z"
    }
   },
   "id": "d2eb2064d408ab59",
   "execution_count": 7
  }
 ],
 "metadata": {
  "kernelspec": {
   "display_name": "Python 3",
   "language": "python",
   "name": "python3"
  },
  "language_info": {
   "codemirror_mode": {
    "name": "ipython",
    "version": 2
   },
   "file_extension": ".py",
   "mimetype": "text/x-python",
   "name": "python",
   "nbconvert_exporter": "python",
   "pygments_lexer": "ipython2",
   "version": "2.7.6"
  }
 },
 "nbformat": 4,
 "nbformat_minor": 5
}
